{
 "cells": [
  {
   "cell_type": "markdown",
   "metadata": {},
   "source": [
    "To fetch GitHub contribution data between particular dates:\n",
    "\n",
    "```\n",
    "curl -H \"Authorization: bearer {INSERT GH TOKEN HERE}\" -X POST -d '{\"query\":\"query {\\n user(login:\\\"kevinpgalligan\\\") {\\n    name\\n contributionsCollection(from:\\\"2022-09-01T00:00:00Z\\\", to: \\\"2023-12-30T00:00:00Z\\\") {\\n contributionCalendar { \\n colors\\n totalContributions\\n weeks {\\n contributionDays {\\n color\\n contributionCount\\n date\\n weekday\\n }\\n  firstDay\\n }\\n}\\n}\\n}\\n}\"}' https://api.github.com/graphql >contribs-2023-2024.json\n",
    "```"
   ]
  },
  {
   "cell_type": "code",
   "execution_count": 1,
   "metadata": {},
   "outputs": [],
   "source": [
    "import json\n",
    "import matplotlib.pyplot as plt\n",
    "import matplotlib.cm"
   ]
  },
  {
   "cell_type": "code",
   "execution_count": 2,
   "metadata": {},
   "outputs": [],
   "source": [
    "YEARS = [2019, 2020, 2021, 2022]"
   ]
  },
  {
   "cell_type": "code",
   "execution_count": 3,
   "metadata": {},
   "outputs": [],
   "source": [
    "contribs = []\n",
    "for year in YEARS:\n",
    "    with open(f\"contribs-{year}-{year+1}.json\", \"r\") as f:\n",
    "        data = json.load(f)\n",
    "    calendarCol = data[\"data\"][\"user\"][\"contributionsCollection\"]\n",
    "    weeks = calendarCol[\"contributionCalendar\"][\"weeks\"]\n",
    "    for week in weeks:\n",
    "        for day in week[\"contributionDays\"]:\n",
    "            contribs.append({\"date\": day[\"date\"],\n",
    "                             \"count\": day[\"contributionCount\"],\n",
    "                             \"colour\": day[\"color\"]})"
   ]
  },
  {
   "cell_type": "code",
   "execution_count": 4,
   "metadata": {},
   "outputs": [],
   "source": [
    "weeklyCounts = []\n",
    "dates = []\n",
    "i = 0\n",
    "while i < len(contribs):\n",
    "    if len(contribs)-i >= 7:\n",
    "        weekCount = 0\n",
    "        for j in range(i, i+7):\n",
    "            weekCount += contribs[j][\"count\"]\n",
    "        weeklyCounts.append(weekCount)\n",
    "        dates.append(contribs[i][\"date\"])\n",
    "    i += 7\n",
    "max_count = max(weeklyCounts)"
   ]
  },
  {
   "cell_type": "code",
   "execution_count": 8,
   "metadata": {},
   "outputs": [
    {
     "data": {
      "image/png": "[encoded data removed]",
      "text/plain": [
       "<Figure size 432x288 with 1 Axes>"
      ]
     },
     "metadata": {
      "needs_background": "light"
     },
     "output_type": "display_data"
    }
   ],
   "source": [
    "def date_index(date_string, dates):\n",
    "    return next(i for i in range(len(dates)) if dates[i] >= date_string)\n",
    "\n",
    "plt.bar(list(range(len(weeklyCounts))),\n",
    "        weeklyCounts,\n",
    "        color=matplotlib.cm.get_cmap('Greens')(\n",
    "            [max(count/max_count, 0.35) for count in weeklyCounts]))\n",
    "plt.ylabel(\"GitHub Contributions\")\n",
    "ticks = ([-1]\n",
    "    + [date_index(datestring, dates)\n",
    "       for datestring in [\"2020-01-01\", \"2021-01-01\", \"2022-01-01\", \"2023-01-01\"]]\n",
    "    + [len(weeklyCounts)-1])\n",
    "labels = [\"\", \"2020\", \"2021\", \"2022\", \"2023\", \"August-ish\"]\n",
    "plt.xticks(ticks=ticks,\n",
    "           labels=labels)\n",
    "\n",
    "plt.savefig(\"/tmp/github-contributions.png\")"
   ]
  },
  {
   "cell_type": "code",
   "execution_count": 6,
   "metadata": {},
   "outputs": [
    {
     "name": "stdout",
     "output_type": "stream",
     "text": [
      "2023-08-24\n"
     ]
    }
   ],
   "source": [
    "print(dates[-1])"
   ]
  },
  {
   "cell_type": "code",
   "execution_count": null,
   "metadata": {},
   "outputs": [],
   "source": []
  }
 ],
 "metadata": {
  "kernelspec": {
   "display_name": "Python 3",
   "language": "python",
   "name": "python3"
  },
  "language_info": {
   "codemirror_mode": {
    "name": "ipython",
    "version": 3
   },
   "file_extension": ".py",
   "mimetype": "text/x-python",
   "name": "python",
   "nbconvert_exporter": "python",
   "pygments_lexer": "ipython3",
   "version": "3.6.9"
  }
 },
 "nbformat": 4,
 "nbformat_minor": 4
}
